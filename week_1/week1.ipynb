{
  "cells": [
    {
      "cell_type": "markdown",
      "metadata": {
        "id": "hoNse2eKKxzr"
      },
      "source": [
        "# Week 1 Study Notebook\n",
        "\n",
        "# UC San Diego OMDS DSC 207\n",
        "\n",
        "## Check your Python skills while using Colab notebooks."
      ]
    },
    {
      "cell_type": "markdown",
      "metadata": {
        "id": "Qs9X4Vd_67t0"
      },
      "source": [
        "### Installing Otter-Grader\n",
        "\n",
        "Otter-Grader is a powerful tool that helps you check your work before submitting assignments. To get started with Otter-Grader, you need to install it within this Colab notebook.\n",
        "\n",
        "To install Otter-Grader, simply run the below code cell.\n",
        "\n",
        "Note that questions 1-3 and 5-9 are autograded, while questions 4 and 10 will be graded manually."
      ]
    },
    {
      "cell_type": "code",
      "execution_count": null,
      "metadata": {
        "id": "blOhv7NA67t0",
        "outputId": "5f9090e4-cf14-459e-eb38-6420b273ea83",
        "colab": {
          "base_uri": "https://localhost:8080/"
        }
      },
      "outputs": [
        {
          "output_type": "stream",
          "name": "stdout",
          "text": [
            "Collecting otter-grader\n",
            "  Downloading otter_grader-6.0.4-py3-none-any.whl.metadata (3.9 kB)\n",
            "Requirement already satisfied: click<9.0.0,>=8.1.7 in /usr/local/lib/python3.10/dist-packages (from otter-grader) (8.1.8)\n",
            "Collecting dill>=0.3.0 (from otter-grader)\n",
            "  Downloading dill-0.3.9-py3-none-any.whl.metadata (10 kB)\n",
            "Collecting fica>=0.4.1 (from otter-grader)\n",
            "  Downloading fica-0.4.1-py3-none-any.whl.metadata (2.0 kB)\n",
            "Collecting ipylab<2.0.0,>=1.0.0 (from otter-grader)\n",
            "  Downloading ipylab-1.0.0-py3-none-any.whl.metadata (6.7 kB)\n",
            "Requirement already satisfied: ipython in /usr/local/lib/python3.10/dist-packages (from otter-grader) (7.34.0)\n",
            "Collecting ipywidgets<9.0.0,>=8.1.5 (from otter-grader)\n",
            "  Downloading ipywidgets-8.1.5-py3-none-any.whl.metadata (2.3 kB)\n",
            "Requirement already satisfied: jinja2<4.0,>=3.1 in /usr/local/lib/python3.10/dist-packages (from otter-grader) (3.1.5)\n",
            "Collecting jupytext<2.0.0,>=1.16.4 (from otter-grader)\n",
            "  Downloading jupytext-1.16.6-py3-none-any.whl.metadata (13 kB)\n",
            "Requirement already satisfied: nbconvert>=6.0.0 in /usr/local/lib/python3.10/dist-packages (from nbconvert[webpdf]>=6.0.0; sys_platform != \"emscripten\" and sys_platform != \"wasi\"->otter-grader) (7.16.5)\n",
            "Requirement already satisfied: nbformat>=5.0.0 in /usr/local/lib/python3.10/dist-packages (from otter-grader) (5.10.4)\n",
            "Requirement already satisfied: pandas>=2.0.0 in /usr/local/lib/python3.10/dist-packages (from otter-grader) (2.2.2)\n",
            "Collecting python-on-whales<1.0.0,>=0.72.0 (from otter-grader)\n",
            "  Downloading python_on_whales-0.75.1-py3-none-any.whl.metadata (18 kB)\n",
            "Requirement already satisfied: pyyaml<7,>=6 in /usr/local/lib/python3.10/dist-packages (from otter-grader) (6.0.2)\n",
            "Requirement already satisfied: requests<3.0,>=2.31 in /usr/local/lib/python3.10/dist-packages (from otter-grader) (2.32.3)\n",
            "Requirement already satisfied: wrapt<2.0.0,>=1.16.0 in /usr/local/lib/python3.10/dist-packages (from otter-grader) (1.17.0)\n",
            "Requirement already satisfied: docutils in /usr/local/lib/python3.10/dist-packages (from fica>=0.4.1->otter-grader) (0.21.2)\n",
            "Requirement already satisfied: sphinx in /usr/local/lib/python3.10/dist-packages (from fica>=0.4.1->otter-grader) (8.1.3)\n",
            "Collecting comm>=0.1.3 (from ipywidgets<9.0.0,>=8.1.5->otter-grader)\n",
            "  Downloading comm-0.2.2-py3-none-any.whl.metadata (3.7 kB)\n",
            "Requirement already satisfied: traitlets>=4.3.1 in /usr/local/lib/python3.10/dist-packages (from ipywidgets<9.0.0,>=8.1.5->otter-grader) (5.7.1)\n",
            "Collecting widgetsnbextension~=4.0.12 (from ipywidgets<9.0.0,>=8.1.5->otter-grader)\n",
            "  Downloading widgetsnbextension-4.0.13-py3-none-any.whl.metadata (1.6 kB)\n",
            "Requirement already satisfied: jupyterlab-widgets~=3.0.12 in /usr/local/lib/python3.10/dist-packages (from ipywidgets<9.0.0,>=8.1.5->otter-grader) (3.0.13)\n",
            "Requirement already satisfied: setuptools>=18.5 in /usr/local/lib/python3.10/dist-packages (from ipython->otter-grader) (75.1.0)\n",
            "Collecting jedi>=0.16 (from ipython->otter-grader)\n",
            "  Downloading jedi-0.19.2-py2.py3-none-any.whl.metadata (22 kB)\n",
            "Requirement already satisfied: decorator in /usr/local/lib/python3.10/dist-packages (from ipython->otter-grader) (4.4.2)\n",
            "Requirement already satisfied: pickleshare in /usr/local/lib/python3.10/dist-packages (from ipython->otter-grader) (0.7.5)\n",
            "Requirement already satisfied: prompt-toolkit!=3.0.0,!=3.0.1,<3.1.0,>=2.0.0 in /usr/local/lib/python3.10/dist-packages (from ipython->otter-grader) (3.0.48)\n",
            "Requirement already satisfied: pygments in /usr/local/lib/python3.10/dist-packages (from ipython->otter-grader) (2.18.0)\n",
            "Requirement already satisfied: backcall in /usr/local/lib/python3.10/dist-packages (from ipython->otter-grader) (0.2.0)\n",
            "Requirement already satisfied: matplotlib-inline in /usr/local/lib/python3.10/dist-packages (from ipython->otter-grader) (0.1.7)\n",
            "Requirement already satisfied: pexpect>4.3 in /usr/local/lib/python3.10/dist-packages (from ipython->otter-grader) (4.9.0)\n",
            "Requirement already satisfied: MarkupSafe>=2.0 in /usr/local/lib/python3.10/dist-packages (from jinja2<4.0,>=3.1->otter-grader) (3.0.2)\n",
            "Requirement already satisfied: markdown-it-py>=1.0 in /usr/local/lib/python3.10/dist-packages (from jupytext<2.0.0,>=1.16.4->otter-grader) (3.0.0)\n",
            "Requirement already satisfied: mdit-py-plugins in /usr/local/lib/python3.10/dist-packages (from jupytext<2.0.0,>=1.16.4->otter-grader) (0.4.2)\n",
            "Requirement already satisfied: packaging in /usr/local/lib/python3.10/dist-packages (from jupytext<2.0.0,>=1.16.4->otter-grader) (24.2)\n",
            "Requirement already satisfied: tomli in /usr/local/lib/python3.10/dist-packages (from jupytext<2.0.0,>=1.16.4->otter-grader) (2.2.1)\n",
            "Requirement already satisfied: beautifulsoup4 in /usr/local/lib/python3.10/dist-packages (from nbconvert>=6.0.0->nbconvert[webpdf]>=6.0.0; sys_platform != \"emscripten\" and sys_platform != \"wasi\"->otter-grader) (4.12.3)\n",
            "Requirement already satisfied: bleach!=5.0.0 in /usr/local/lib/python3.10/dist-packages (from bleach[css]!=5.0.0->nbconvert>=6.0.0->nbconvert[webpdf]>=6.0.0; sys_platform != \"emscripten\" and sys_platform != \"wasi\"->otter-grader) (6.2.0)\n",
            "Requirement already satisfied: defusedxml in /usr/local/lib/python3.10/dist-packages (from nbconvert>=6.0.0->nbconvert[webpdf]>=6.0.0; sys_platform != \"emscripten\" and sys_platform != \"wasi\"->otter-grader) (0.7.1)\n",
            "Requirement already satisfied: jupyter-core>=4.7 in /usr/local/lib/python3.10/dist-packages (from nbconvert>=6.0.0->nbconvert[webpdf]>=6.0.0; sys_platform != \"emscripten\" and sys_platform != \"wasi\"->otter-grader) (5.7.2)\n",
            "Requirement already satisfied: jupyterlab-pygments in /usr/local/lib/python3.10/dist-packages (from nbconvert>=6.0.0->nbconvert[webpdf]>=6.0.0; sys_platform != \"emscripten\" and sys_platform != \"wasi\"->otter-grader) (0.3.0)\n",
            "Requirement already satisfied: mistune<4,>=2.0.3 in /usr/local/lib/python3.10/dist-packages (from nbconvert>=6.0.0->nbconvert[webpdf]>=6.0.0; sys_platform != \"emscripten\" and sys_platform != \"wasi\"->otter-grader) (3.1.0)\n",
            "Requirement already satisfied: nbclient>=0.5.0 in /usr/local/lib/python3.10/dist-packages (from nbconvert>=6.0.0->nbconvert[webpdf]>=6.0.0; sys_platform != \"emscripten\" and sys_platform != \"wasi\"->otter-grader) (0.10.2)\n",
            "Requirement already satisfied: pandocfilters>=1.4.1 in /usr/local/lib/python3.10/dist-packages (from nbconvert>=6.0.0->nbconvert[webpdf]>=6.0.0; sys_platform != \"emscripten\" and sys_platform != \"wasi\"->otter-grader) (1.5.1)\n",
            "Collecting playwright (from nbconvert[webpdf]>=6.0.0; sys_platform != \"emscripten\" and sys_platform != \"wasi\"->otter-grader)\n",
            "  Downloading playwright-1.49.1-py3-none-manylinux1_x86_64.whl.metadata (3.5 kB)\n",
            "Requirement already satisfied: fastjsonschema>=2.15 in /usr/local/lib/python3.10/dist-packages (from nbformat>=5.0.0->otter-grader) (2.21.1)\n",
            "Requirement already satisfied: jsonschema>=2.6 in /usr/local/lib/python3.10/dist-packages (from nbformat>=5.0.0->otter-grader) (4.23.0)\n",
            "Requirement already satisfied: numpy>=1.22.4 in /usr/local/lib/python3.10/dist-packages (from pandas>=2.0.0->otter-grader) (1.26.4)\n",
            "Requirement already satisfied: python-dateutil>=2.8.2 in /usr/local/lib/python3.10/dist-packages (from pandas>=2.0.0->otter-grader) (2.8.2)\n",
            "Requirement already satisfied: pytz>=2020.1 in /usr/local/lib/python3.10/dist-packages (from pandas>=2.0.0->otter-grader) (2024.2)\n",
            "Requirement already satisfied: tzdata>=2022.7 in /usr/local/lib/python3.10/dist-packages (from pandas>=2.0.0->otter-grader) (2024.2)\n",
            "Requirement already satisfied: pydantic!=2.0.*,<3,>=2 in /usr/local/lib/python3.10/dist-packages (from python-on-whales<1.0.0,>=0.72.0->otter-grader) (2.10.4)\n",
            "Requirement already satisfied: typing-extensions in /usr/local/lib/python3.10/dist-packages (from python-on-whales<1.0.0,>=0.72.0->otter-grader) (4.12.2)\n",
            "Requirement already satisfied: charset-normalizer<4,>=2 in /usr/local/lib/python3.10/dist-packages (from requests<3.0,>=2.31->otter-grader) (3.4.1)\n",
            "Requirement already satisfied: idna<4,>=2.5 in /usr/local/lib/python3.10/dist-packages (from requests<3.0,>=2.31->otter-grader) (3.10)\n",
            "Requirement already satisfied: urllib3<3,>=1.21.1 in /usr/local/lib/python3.10/dist-packages (from requests<3.0,>=2.31->otter-grader) (2.3.0)\n",
            "Requirement already satisfied: certifi>=2017.4.17 in /usr/local/lib/python3.10/dist-packages (from requests<3.0,>=2.31->otter-grader) (2024.12.14)\n",
            "Requirement already satisfied: webencodings in /usr/local/lib/python3.10/dist-packages (from bleach!=5.0.0->bleach[css]!=5.0.0->nbconvert>=6.0.0->nbconvert[webpdf]>=6.0.0; sys_platform != \"emscripten\" and sys_platform != \"wasi\"->otter-grader) (0.5.1)\n",
            "Requirement already satisfied: tinycss2<1.5,>=1.1.0 in /usr/local/lib/python3.10/dist-packages (from bleach[css]!=5.0.0->nbconvert>=6.0.0->nbconvert[webpdf]>=6.0.0; sys_platform != \"emscripten\" and sys_platform != \"wasi\"->otter-grader) (1.4.0)\n",
            "Requirement already satisfied: parso<0.9.0,>=0.8.4 in /usr/local/lib/python3.10/dist-packages (from jedi>=0.16->ipython->otter-grader) (0.8.4)\n",
            "Requirement already satisfied: attrs>=22.2.0 in /usr/local/lib/python3.10/dist-packages (from jsonschema>=2.6->nbformat>=5.0.0->otter-grader) (24.3.0)\n",
            "Requirement already satisfied: jsonschema-specifications>=2023.03.6 in /usr/local/lib/python3.10/dist-packages (from jsonschema>=2.6->nbformat>=5.0.0->otter-grader) (2024.10.1)\n",
            "Requirement already satisfied: referencing>=0.28.4 in /usr/local/lib/python3.10/dist-packages (from jsonschema>=2.6->nbformat>=5.0.0->otter-grader) (0.35.1)\n",
            "Requirement already satisfied: rpds-py>=0.7.1 in /usr/local/lib/python3.10/dist-packages (from jsonschema>=2.6->nbformat>=5.0.0->otter-grader) (0.22.3)\n",
            "Requirement already satisfied: platformdirs>=2.5 in /usr/local/lib/python3.10/dist-packages (from jupyter-core>=4.7->nbconvert>=6.0.0->nbconvert[webpdf]>=6.0.0; sys_platform != \"emscripten\" and sys_platform != \"wasi\"->otter-grader) (4.3.6)\n",
            "Requirement already satisfied: mdurl~=0.1 in /usr/local/lib/python3.10/dist-packages (from markdown-it-py>=1.0->jupytext<2.0.0,>=1.16.4->otter-grader) (0.1.2)\n",
            "Requirement already satisfied: jupyter-client>=6.1.12 in /usr/local/lib/python3.10/dist-packages (from nbclient>=0.5.0->nbconvert>=6.0.0->nbconvert[webpdf]>=6.0.0; sys_platform != \"emscripten\" and sys_platform != \"wasi\"->otter-grader) (6.1.12)\n",
            "Requirement already satisfied: ptyprocess>=0.5 in /usr/local/lib/python3.10/dist-packages (from pexpect>4.3->ipython->otter-grader) (0.7.0)\n",
            "Requirement already satisfied: wcwidth in /usr/local/lib/python3.10/dist-packages (from prompt-toolkit!=3.0.0,!=3.0.1,<3.1.0,>=2.0.0->ipython->otter-grader) (0.2.13)\n",
            "Requirement already satisfied: annotated-types>=0.6.0 in /usr/local/lib/python3.10/dist-packages (from pydantic!=2.0.*,<3,>=2->python-on-whales<1.0.0,>=0.72.0->otter-grader) (0.7.0)\n",
            "Requirement already satisfied: pydantic-core==2.27.2 in /usr/local/lib/python3.10/dist-packages (from pydantic!=2.0.*,<3,>=2->python-on-whales<1.0.0,>=0.72.0->otter-grader) (2.27.2)\n",
            "Requirement already satisfied: six>=1.5 in /usr/local/lib/python3.10/dist-packages (from python-dateutil>=2.8.2->pandas>=2.0.0->otter-grader) (1.17.0)\n",
            "Requirement already satisfied: soupsieve>1.2 in /usr/local/lib/python3.10/dist-packages (from beautifulsoup4->nbconvert>=6.0.0->nbconvert[webpdf]>=6.0.0; sys_platform != \"emscripten\" and sys_platform != \"wasi\"->otter-grader) (2.6)\n",
            "Requirement already satisfied: greenlet==3.1.1 in /usr/local/lib/python3.10/dist-packages (from playwright->nbconvert[webpdf]>=6.0.0; sys_platform != \"emscripten\" and sys_platform != \"wasi\"->otter-grader) (3.1.1)\n",
            "Collecting pyee==12.0.0 (from playwright->nbconvert[webpdf]>=6.0.0; sys_platform != \"emscripten\" and sys_platform != \"wasi\"->otter-grader)\n",
            "  Downloading pyee-12.0.0-py3-none-any.whl.metadata (2.8 kB)\n",
            "Requirement already satisfied: sphinxcontrib-applehelp>=1.0.7 in /usr/local/lib/python3.10/dist-packages (from sphinx->fica>=0.4.1->otter-grader) (2.0.0)\n",
            "Requirement already satisfied: sphinxcontrib-devhelp>=1.0.6 in /usr/local/lib/python3.10/dist-packages (from sphinx->fica>=0.4.1->otter-grader) (2.0.0)\n",
            "Requirement already satisfied: sphinxcontrib-htmlhelp>=2.0.6 in /usr/local/lib/python3.10/dist-packages (from sphinx->fica>=0.4.1->otter-grader) (2.1.0)\n",
            "Requirement already satisfied: sphinxcontrib-jsmath>=1.0.1 in /usr/local/lib/python3.10/dist-packages (from sphinx->fica>=0.4.1->otter-grader) (1.0.1)\n",
            "Requirement already satisfied: sphinxcontrib-qthelp>=1.0.6 in /usr/local/lib/python3.10/dist-packages (from sphinx->fica>=0.4.1->otter-grader) (2.0.0)\n",
            "Requirement already satisfied: sphinxcontrib-serializinghtml>=1.1.9 in /usr/local/lib/python3.10/dist-packages (from sphinx->fica>=0.4.1->otter-grader) (2.0.0)\n",
            "Requirement already satisfied: snowballstemmer>=2.2 in /usr/local/lib/python3.10/dist-packages (from sphinx->fica>=0.4.1->otter-grader) (2.2.0)\n",
            "Requirement already satisfied: babel>=2.13 in /usr/local/lib/python3.10/dist-packages (from sphinx->fica>=0.4.1->otter-grader) (2.16.0)\n",
            "Requirement already satisfied: alabaster>=0.7.14 in /usr/local/lib/python3.10/dist-packages (from sphinx->fica>=0.4.1->otter-grader) (1.0.0)\n",
            "Requirement already satisfied: imagesize>=1.3 in /usr/local/lib/python3.10/dist-packages (from sphinx->fica>=0.4.1->otter-grader) (1.4.1)\n",
            "Requirement already satisfied: pyzmq>=13 in /usr/local/lib/python3.10/dist-packages (from jupyter-client>=6.1.12->nbclient>=0.5.0->nbconvert>=6.0.0->nbconvert[webpdf]>=6.0.0; sys_platform != \"emscripten\" and sys_platform != \"wasi\"->otter-grader) (24.0.1)\n",
            "Requirement already satisfied: tornado>=4.1 in /usr/local/lib/python3.10/dist-packages (from jupyter-client>=6.1.12->nbclient>=0.5.0->nbconvert>=6.0.0->nbconvert[webpdf]>=6.0.0; sys_platform != \"emscripten\" and sys_platform != \"wasi\"->otter-grader) (6.3.3)\n",
            "Downloading otter_grader-6.0.4-py3-none-any.whl (141 kB)\n",
            "\u001b[2K   \u001b[90m━━━━━━━━━━━━━━━━━━━━━━━━━━━━━━━━━━━━━━━━\u001b[0m \u001b[32m141.7/141.7 kB\u001b[0m \u001b[31m9.3 MB/s\u001b[0m eta \u001b[36m0:00:00\u001b[0m\n",
            "\u001b[?25hDownloading dill-0.3.9-py3-none-any.whl (119 kB)\n",
            "\u001b[2K   \u001b[90m━━━━━━━━━━━━━━━━━━━━━━━━━━━━━━━━━━━━━━━━\u001b[0m \u001b[32m119.4/119.4 kB\u001b[0m \u001b[31m9.8 MB/s\u001b[0m eta \u001b[36m0:00:00\u001b[0m\n",
            "\u001b[?25hDownloading fica-0.4.1-py3-none-any.whl (13 kB)\n",
            "Downloading ipylab-1.0.0-py3-none-any.whl (100 kB)\n",
            "\u001b[2K   \u001b[90m━━━━━━━━━━━━━━━━━━━━━━━━━━━━━━━━━━━━━━━━\u001b[0m \u001b[32m100.2/100.2 kB\u001b[0m \u001b[31m7.6 MB/s\u001b[0m eta \u001b[36m0:00:00\u001b[0m\n",
            "\u001b[?25hDownloading ipywidgets-8.1.5-py3-none-any.whl (139 kB)\n",
            "\u001b[2K   \u001b[90m━━━━━━━━━━━━━━━━━━━━━━━━━━━━━━━━━━━━━━━━\u001b[0m \u001b[32m139.8/139.8 kB\u001b[0m \u001b[31m10.5 MB/s\u001b[0m eta \u001b[36m0:00:00\u001b[0m\n",
            "\u001b[?25hDownloading jupytext-1.16.6-py3-none-any.whl (154 kB)\n",
            "\u001b[2K   \u001b[90m━━━━━━━━━━━━━━━━━━━━━━━━━━━━━━━━━━━━━━━━\u001b[0m \u001b[32m154.2/154.2 kB\u001b[0m \u001b[31m12.4 MB/s\u001b[0m eta \u001b[36m0:00:00\u001b[0m\n",
            "\u001b[?25hDownloading python_on_whales-0.75.1-py3-none-any.whl (114 kB)\n",
            "\u001b[2K   \u001b[90m━━━━━━━━━━━━━━━━━━━━━━━━━━━━━━━━━━━━━━━━\u001b[0m \u001b[32m115.0/115.0 kB\u001b[0m \u001b[31m8.9 MB/s\u001b[0m eta \u001b[36m0:00:00\u001b[0m\n",
            "\u001b[?25hDownloading comm-0.2.2-py3-none-any.whl (7.2 kB)\n",
            "Downloading jedi-0.19.2-py2.py3-none-any.whl (1.6 MB)\n",
            "\u001b[2K   \u001b[90m━━━━━━━━━━━━━━━━━━━━━━━━━━━━━━━━━━━━━━━━\u001b[0m \u001b[32m1.6/1.6 MB\u001b[0m \u001b[31m56.1 MB/s\u001b[0m eta \u001b[36m0:00:00\u001b[0m\n",
            "\u001b[?25hDownloading widgetsnbextension-4.0.13-py3-none-any.whl (2.3 MB)\n",
            "\u001b[2K   \u001b[90m━━━━━━━━━━━━━━━━━━━━━━━━━━━━━━━━━━━━━━━━\u001b[0m \u001b[32m2.3/2.3 MB\u001b[0m \u001b[31m70.5 MB/s\u001b[0m eta \u001b[36m0:00:00\u001b[0m\n",
            "\u001b[?25hDownloading playwright-1.49.1-py3-none-manylinux1_x86_64.whl (44.2 MB)\n",
            "\u001b[2K   \u001b[90m━━━━━━━━━━━━━━━━━━━━━━━━━━━━━━━━━━━━━━━━\u001b[0m \u001b[32m44.2/44.2 MB\u001b[0m \u001b[31m16.8 MB/s\u001b[0m eta \u001b[36m0:00:00\u001b[0m\n",
            "\u001b[?25hDownloading pyee-12.0.0-py3-none-any.whl (14 kB)\n",
            "Installing collected packages: widgetsnbextension, pyee, jedi, dill, comm, playwright, python-on-whales, ipywidgets, fica, ipylab, jupytext, otter-grader\n",
            "  Attempting uninstall: widgetsnbextension\n",
            "    Found existing installation: widgetsnbextension 3.6.10\n",
            "    Uninstalling widgetsnbextension-3.6.10:\n",
            "      Successfully uninstalled widgetsnbextension-3.6.10\n",
            "  Attempting uninstall: ipywidgets\n",
            "    Found existing installation: ipywidgets 7.7.1\n",
            "    Uninstalling ipywidgets-7.7.1:\n",
            "      Successfully uninstalled ipywidgets-7.7.1\n",
            "Successfully installed comm-0.2.2 dill-0.3.9 fica-0.4.1 ipylab-1.0.0 ipywidgets-8.1.5 jedi-0.19.2 jupytext-1.16.6 otter-grader-6.0.4 playwright-1.49.1 pyee-12.0.0 python-on-whales-0.75.1 widgetsnbextension-4.0.13\n",
            "--2025-01-11 23:24:14--  https://github.com/dsc207rfall2023/fa23course-dsc207r/raw/main/assignments/Week%201/tests.zip\n",
            "Resolving github.com (github.com)... 140.82.121.3\n",
            "Connecting to github.com (github.com)|140.82.121.3|:443... connected.\n",
            "HTTP request sent, awaiting response... 302 Found\n",
            "Location: https://raw.githubusercontent.com/dsc207rfall2023/fa23course-dsc207r/main/assignments/Week%201/tests.zip [following]\n",
            "--2025-01-11 23:24:14--  https://raw.githubusercontent.com/dsc207rfall2023/fa23course-dsc207r/main/assignments/Week%201/tests.zip\n",
            "Resolving raw.githubusercontent.com (raw.githubusercontent.com)... 185.199.108.133, 185.199.109.133, 185.199.110.133, ...\n",
            "Connecting to raw.githubusercontent.com (raw.githubusercontent.com)|185.199.108.133|:443... connected.\n",
            "HTTP request sent, awaiting response... 200 OK\n",
            "Length: 3391 (3.3K) [application/zip]\n",
            "Saving to: ‘tests.zip’\n",
            "\n",
            "tests.zip           100%[===================>]   3.31K  --.-KB/s    in 0s      \n",
            "\n",
            "2025-01-11 23:24:15 (38.6 MB/s) - ‘tests.zip’ saved [3391/3391]\n",
            "\n",
            "Archive:  tests.zip\n",
            "   creating: tests/\n",
            "  inflating: tests/q5.py             \n",
            "  inflating: tests/q1.py             \n",
            "  inflating: tests/q9.py             \n",
            "  inflating: tests/q8.py             \n",
            "  inflating: tests/q3.py             \n",
            "  inflating: tests/q7.py             \n",
            "  inflating: tests/q6.py             \n",
            "  inflating: tests/q2.py             \n"
          ]
        }
      ],
      "source": [
        "# DO NOT MODIFY\n",
        "%pip install otter-grader\n",
        "\n",
        "files = \"https://github.com/dsc207rfall2023/fa23course-dsc207r/raw/main/assignments/Week%201/tests.zip\"\n",
        "!wget $files && unzip -o tests.zip"
      ]
    },
    {
      "cell_type": "code",
      "execution_count": null,
      "metadata": {
        "id": "7nhkED6n67t1"
      },
      "outputs": [],
      "source": [
        "# Initialize Otter\n",
        "import otter\n",
        "grader = otter.Notebook()"
      ]
    },
    {
      "cell_type": "markdown",
      "metadata": {
        "id": "pOgkMZpd67t1"
      },
      "source": [
        "### Loading Python modules"
      ]
    },
    {
      "cell_type": "code",
      "execution_count": 1,
      "metadata": {
        "id": "qeEsNYNv67t1"
      },
      "outputs": [],
      "source": [
        "import pandas as pd\n",
        "import numpy as np\n",
        "\n",
        "# ADD ADDITIONAL PYTHON MODULES BELOW\n",
        "from math import sqrt"
      ]
    },
    {
      "cell_type": "markdown",
      "metadata": {
        "deletable": false,
        "editable": false,
        "id": "NFhqf_KQKxzv"
      },
      "source": [
        "### 1.  Write a program to swap a string and an int variable and print their data types to verify the swapping operation\n",
        "\n",
        "* Initialize 2 variables my_int = 5 , and my_str = \"Hi\"\n",
        "* Swap these variables such that my_int now holds the value of my_str and vice versa\n",
        "* Verify this by printing their data types\n",
        "\n",
        "_Points:_ 5"
      ]
    },
    {
      "cell_type": "code",
      "execution_count": null,
      "metadata": {
        "id": "Cjg3iFUKKxzv",
        "tags": [],
        "colab": {
          "base_uri": "https://localhost:8080/"
        },
        "outputId": "71e4016b-e4e6-44ed-b9be-cf38a212b7d3"
      },
      "outputs": [
        {
          "output_type": "stream",
          "name": "stdout",
          "text": [
            "<class 'str'>\n",
            "<class 'int'>\n"
          ]
        }
      ],
      "source": [
        "# Initialize my_int and my_str\n",
        "my_int = 5\n",
        "my_str = \"Hi\"\n",
        "\n",
        "# swap values for variables my_int and my_str\n",
        "my_int, my_str = my_str, my_int\n",
        "\n",
        "# print data type for my_int\n",
        "print(type(my_int))\n",
        "\n",
        "# print data type for my_str\n",
        "print(type(my_str))\n"
      ]
    },
    {
      "cell_type": "code",
      "execution_count": null,
      "metadata": {
        "deletable": false,
        "editable": false,
        "id": "YixXL3e267t2",
        "colab": {
          "base_uri": "https://localhost:8080/",
          "height": 46
        },
        "outputId": "935b40da-7259-4c36-cba8-ef433ad7d6b3"
      },
      "outputs": [
        {
          "output_type": "execute_result",
          "data": {
            "text/plain": [
              "q1 results: All test cases passed!"
            ],
            "text/html": [
              "<p><strong><pre style='display: inline;'>q1</pre></strong> passed! ✨</p>"
            ]
          },
          "metadata": {},
          "execution_count": 8
        }
      ],
      "source": [
        "grader.check(\"q1\")"
      ]
    },
    {
      "cell_type": "markdown",
      "metadata": {
        "deletable": false,
        "editable": false,
        "id": "5bqlJypQ67t2"
      },
      "source": [
        "### 2. Write a Python Program to Calculate the length of the diagonal of a rectangle\n",
        "\n",
        "* Initialize the 2 sides of the rectangle a and b to 5 and 6\n",
        "* Calculate the length of the diagonal using the formula - diagonal = √(a^2 + b^2)\n",
        "\n",
        "_Points:_ 5"
      ]
    },
    {
      "cell_type": "code",
      "execution_count": null,
      "metadata": {
        "tags": [],
        "id": "8W7tU3RO67t2"
      },
      "outputs": [],
      "source": [
        "# Initialize variables a and b\n",
        "a = 5\n",
        "b = 6\n",
        "\n",
        "def calc_diag(a, b):\n",
        "    diag = sqrt(a**2+b**2)\n",
        "    return(diag)"
      ]
    },
    {
      "cell_type": "code",
      "execution_count": null,
      "metadata": {
        "deletable": false,
        "editable": false,
        "id": "-0hhTjMI67t3",
        "colab": {
          "base_uri": "https://localhost:8080/",
          "height": 46
        },
        "outputId": "97afe23b-3e2e-4ddd-8b7f-fb513b26c4b4"
      },
      "outputs": [
        {
          "output_type": "execute_result",
          "data": {
            "text/plain": [
              "q2 results: All test cases passed!"
            ],
            "text/html": [
              "<p><strong><pre style='display: inline;'>q2</pre></strong> passed! 🌟</p>"
            ]
          },
          "metadata": {},
          "execution_count": 7
        }
      ],
      "source": [
        "grader.check(\"q2\")"
      ]
    },
    {
      "cell_type": "markdown",
      "metadata": {
        "deletable": false,
        "editable": false,
        "id": "xhbMjv_r67t3"
      },
      "source": [
        "### 3. Write a Python Program to Check if a Number is divisible by 3\n",
        "\n",
        "* Initialize a variable that takes input from user\n",
        "* Check and return True or False if the number is divisible by 3\n",
        "* If the input is not an int, return False\n",
        "\n",
        "_Points:_ 10"
      ]
    },
    {
      "cell_type": "code",
      "execution_count": null,
      "metadata": {
        "tags": [],
        "id": "p1CPNjkn67t3",
        "colab": {
          "base_uri": "https://localhost:8080/"
        },
        "outputId": "1815ea27-409f-444f-cb0a-dff7dc4a1a9f"
      },
      "outputs": [
        {
          "name": "stdout",
          "output_type": "stream",
          "text": [
            "Please enter a number to see if it is divisible by 3: 3\n"
          ]
        }
      ],
      "source": [
        "#Initialize a variable that takes input from user\n",
        "user_input = input('Please enter a number to see if it is divisible by 3: ')\n",
        "\n",
        "def is_divisible_by_3(num):\n",
        "    if type(num) == int:\n",
        "        if num %3 == 0:\n",
        "            return(True)\n",
        "        else:\n",
        "            return(False)\n",
        "    else:\n",
        "        return(False)\n"
      ]
    },
    {
      "cell_type": "code",
      "execution_count": null,
      "metadata": {
        "deletable": false,
        "editable": false,
        "id": "MUZYfr4G67t3",
        "colab": {
          "base_uri": "https://localhost:8080/",
          "height": 46
        },
        "outputId": "88917238-a91d-417d-f4a4-6a79aec2267c"
      },
      "outputs": [
        {
          "output_type": "execute_result",
          "data": {
            "text/plain": [
              "q3 results: All test cases passed!"
            ],
            "text/html": [
              "<p><strong><pre style='display: inline;'>q3</pre></strong> passed! 🍀</p>"
            ]
          },
          "metadata": {},
          "execution_count": 9
        }
      ],
      "source": [
        "grader.check(\"q3\")"
      ]
    },
    {
      "cell_type": "markdown",
      "metadata": {
        "deletable": false,
        "editable": false,
        "id": "dR4crtGj67t3"
      },
      "source": [
        "<!-- BEGIN QUESTION -->\n",
        "\n",
        "### 4. Write a Python Program to Check if a number has exactly 3 digits (no zeros allowed at the beginning and the number can be assumed to be positive)\n",
        "\n",
        "* Initialize a variable that takes input from user(input will be given as a string)\n",
        "* Check and print true if the number has exactly 3 digits(no zeros allowed at the beginning) else print false\n",
        "\n",
        "_Points:_ 10"
      ]
    },
    {
      "cell_type": "code",
      "execution_count": null,
      "metadata": {
        "tags": [],
        "id": "VIzuABE767t3",
        "colab": {
          "base_uri": "https://localhost:8080/"
        },
        "outputId": "4393e2ad-91e9-4d0b-ffef-2d036b006a9f"
      },
      "outputs": [
        {
          "output_type": "stream",
          "name": "stdout",
          "text": [
            "Please enter an integer: 200\n",
            "number has 3 digits\n",
            "True \n",
            "\n",
            "================================================================================\n",
            "Test cases below\n",
            "================================================================================\n",
            "Testing: 100\n",
            "number has 3 digits\n",
            "True\n",
            "\n",
            "Testing: -100\n",
            "number has 3 digits\n",
            "True\n",
            "\n",
            "Testing:  100 \n",
            "number has 3 digits\n",
            "True\n",
            "\n",
            "Testing: 010\n",
            "number cannot start with 0\n",
            "False\n",
            "\n",
            "Testing: 1\n",
            "number has 1\n",
            "False\n",
            "\n",
            "Testing: 1000\n",
            "number has 4\n",
            "False\n",
            "\n",
            "Testing: my_str\n",
            "not an int please enter int\n",
            "False\n",
            "\n"
          ]
        }
      ],
      "source": [
        "\n",
        "'''\n",
        "Since no zeros are allowed at the beginning I will assume floats are not\n",
        "included int the test.\n",
        "\n",
        "Also since there is no test included for this question I will loop through a\n",
        "list that tests several cases for the num_is_three_digits function.\n",
        "test_1: positive 3 digit int\n",
        "test_2: negative 3 digit int\n",
        "test_3: leading/trailiing whitespace\n",
        "test_4: number starting with 0\n",
        "test_5: number with less than 3 digits\n",
        "test_6: number with greater than 3 digits\n",
        "test_7: string\n",
        "'''\n",
        "num = input('Please enter an integer: ')\n",
        "\n",
        "tests = ['100','-100',' 100 ','010','1','1000','my_str']\n",
        "\n",
        "def num_is_three_digits(num):\n",
        "  # Remove leading or trailing white space\n",
        "  num = num.strip()\n",
        "  try:\n",
        "    # Check if user's number is an int\n",
        "    if type(int(num)) == int:\n",
        "      # Remove negative sign\n",
        "      digits = [digit for digit in list(num) if digit != '-']\n",
        "      # Check length of user's number\n",
        "      if len(digits) == 3:\n",
        "        # Check if number starts with zero\n",
        "        if digits[0] == '0':\n",
        "          print('number cannot start with 0')\n",
        "          return(False)\n",
        "        else:\n",
        "          print('number has 3 digits')\n",
        "          return(True)\n",
        "      else:\n",
        "        print(f'number has {len(digits)}')\n",
        "        return(False)\n",
        "  except:\n",
        "    print(\"not an int please enter int\")\n",
        "    return(False)\n",
        "\n",
        "result = num_is_three_digits(num)\n",
        "print(result,'\\n')\n",
        "\n",
        "# Test cases stated above in inital comments\n",
        "print(80*'=')\n",
        "print('Test cases below')\n",
        "print(80*'=')\n",
        "for test in tests:\n",
        "  print(f'Testing: {test}')\n",
        "  result = num_is_three_digits(test)\n",
        "  print(result)\n",
        "  print()"
      ]
    },
    {
      "cell_type": "markdown",
      "metadata": {
        "deletable": false,
        "editable": false,
        "id": "tD6ilcyF67t3"
      },
      "source": [
        "<!-- END QUESTION -->\n",
        "\n",
        "### 5. Write a Python Program to Check Whether a String is Palindrome or Not\n",
        "\n",
        "* Initialize a string\n",
        "* Lower case it to allow easy comparison\n",
        "* Check using if-else statements if the string is a palindrome\n",
        "* A palindrome is a string which is same read forward or backwards.\n",
        "\n",
        "_Points:_ 10"
      ]
    },
    {
      "cell_type": "code",
      "execution_count": null,
      "metadata": {
        "tags": [],
        "id": "6jdYIEuf67t3"
      },
      "outputs": [],
      "source": [
        "# Initialize a string\n",
        "my_str = 'kayak'\n",
        "my_str = my_str.lower()\n",
        "\n",
        "def if_palindrome(x):\n",
        "  if x == x[::-1]:\n",
        "    return(True)\n",
        "  else:\n",
        "    return(False)\n"
      ]
    },
    {
      "cell_type": "code",
      "execution_count": null,
      "metadata": {
        "deletable": false,
        "editable": false,
        "id": "mEvOiSy-67t3",
        "colab": {
          "base_uri": "https://localhost:8080/",
          "height": 46
        },
        "outputId": "98783f8d-39a8-4513-cc18-d6d0e339e929"
      },
      "outputs": [
        {
          "output_type": "execute_result",
          "data": {
            "text/plain": [
              "q5 results: All test cases passed!"
            ],
            "text/html": [
              "<p><strong><pre style='display: inline;'>q5</pre></strong> passed! 🚀</p>"
            ]
          },
          "metadata": {},
          "execution_count": 12
        }
      ],
      "source": [
        "grader.check(\"q5\")"
      ]
    },
    {
      "cell_type": "markdown",
      "metadata": {
        "deletable": false,
        "editable": false,
        "id": "FtczNzyi67t4"
      },
      "source": [
        "### 6.  **Print numbers divisible by 5 between 4 and 30, inclusive**\n",
        "\n",
        "* Iterate through the numbers in the for loop and notice the way range has been used to generate numbers in the for loop\n",
        "* Produce a list and print containing only the numbers divisible by 5 using if statement\n",
        "\n",
        "_Points:_ 5"
      ]
    },
    {
      "cell_type": "code",
      "execution_count": null,
      "metadata": {
        "tags": [],
        "id": "MbAynci_67t4"
      },
      "outputs": [],
      "source": [
        "start = 4\n",
        "end = 30\n",
        "\n",
        "# must add one to the upper bound since the range function is not inclusive\n",
        "sol = [i for i in range(start,end+1) if i%5 == 0]\n"
      ]
    },
    {
      "cell_type": "code",
      "execution_count": null,
      "metadata": {
        "deletable": false,
        "editable": false,
        "id": "ImE3KEDD67t4",
        "colab": {
          "base_uri": "https://localhost:8080/",
          "height": 46
        },
        "outputId": "884e095c-c12f-44a5-84c9-7106852935d6"
      },
      "outputs": [
        {
          "output_type": "execute_result",
          "data": {
            "text/plain": [
              "q6 results: All test cases passed!"
            ],
            "text/html": [
              "<p><strong><pre style='display: inline;'>q6</pre></strong> passed! 🌟</p>"
            ]
          },
          "metadata": {},
          "execution_count": 14
        }
      ],
      "source": [
        "grader.check(\"q6\")"
      ]
    },
    {
      "cell_type": "markdown",
      "metadata": {
        "deletable": false,
        "editable": false,
        "id": "jEF32_Bh67t4"
      },
      "source": [
        "### 7. Write a Python Program to print the first n numbers of the Fibonacci series starting from 0\n",
        "\n",
        "* Use a loop and return a list of first n numbers of the Fibonacci series: 0,1,1,2,3,....\n",
        "\n",
        "\n",
        "_Points:_ 15"
      ]
    },
    {
      "cell_type": "code",
      "execution_count": null,
      "metadata": {
        "tags": [],
        "id": "gCY3aRa367t4"
      },
      "outputs": [],
      "source": [
        "\n",
        "def fibonacci(n):\n",
        "    fib_sequence = [0, 1]\n",
        "    while len(fib_sequence) < n:\n",
        "      fib_sequence.append(fib_sequence[-1] + fib_sequence[-2])\n",
        "    return(fib_sequence[0:n])\n"
      ]
    },
    {
      "cell_type": "code",
      "execution_count": null,
      "metadata": {
        "deletable": false,
        "editable": false,
        "id": "CAt3q6Ab67t4",
        "colab": {
          "base_uri": "https://localhost:8080/",
          "height": 46
        },
        "outputId": "1ddabde2-e414-4e9d-fa25-1d0e9e2d103c"
      },
      "outputs": [
        {
          "output_type": "execute_result",
          "data": {
            "text/plain": [
              "q7 results: All test cases passed!"
            ],
            "text/html": [
              "<p><strong><pre style='display: inline;'>q7</pre></strong> passed! 🎉</p>"
            ]
          },
          "metadata": {},
          "execution_count": 16
        }
      ],
      "source": [
        "grader.check(\"q7\")"
      ]
    },
    {
      "cell_type": "markdown",
      "metadata": {
        "deletable": false,
        "editable": false,
        "id": "ayPR1kcQ67t4"
      },
      "source": [
        "### 8. Write a Python Program that defines a function to Remove Vowels From a String\n",
        "\n",
        "* You can initialize a string of your choice\n",
        "* Define the function\n",
        "* Use a for loop to return an updated string with the vowels removed.\n",
        "\n",
        "_Points:_ 10"
      ]
    },
    {
      "cell_type": "code",
      "execution_count": null,
      "metadata": {
        "tags": [],
        "id": "gkpiAp3q67t4"
      },
      "outputs": [],
      "source": [
        "def remove_vowels(input_str):\n",
        "  vowels = list(\"AEIOUaeiou\")\n",
        "  input_str = [i for i in input_str if i not in vowels]\n",
        "  input_str = \"\".join(input_str)\n",
        "  return(input_str)\n",
        "\n"
      ]
    },
    {
      "cell_type": "code",
      "execution_count": null,
      "metadata": {
        "deletable": false,
        "editable": false,
        "id": "NnOOZ11w67t4",
        "colab": {
          "base_uri": "https://localhost:8080/",
          "height": 46
        },
        "outputId": "e1df28d2-4a96-4bc8-f065-5f93b901b850"
      },
      "outputs": [
        {
          "output_type": "execute_result",
          "data": {
            "text/plain": [
              "q8 results: All test cases passed!"
            ],
            "text/html": [
              "<p><strong><pre style='display: inline;'>q8</pre></strong> passed! 🍀</p>"
            ]
          },
          "metadata": {},
          "execution_count": 18
        }
      ],
      "source": [
        "grader.check(\"q8\")"
      ]
    },
    {
      "cell_type": "markdown",
      "metadata": {
        "deletable": false,
        "editable": false,
        "id": "x1_c_npd67t4"
      },
      "source": [
        "### 9. Write a program to define a function that takes two numbers as arguments and returns the sum of all numbers between the arguments passed (exclusive, i.e. excluding the limits).\n",
        "\n",
        "* You can define a range of your choice\n",
        "* Define the function\n",
        "* Use a for loop to add numbers within the range(exclusive)\n",
        "\n",
        "_Points:_ 10"
      ]
    },
    {
      "cell_type": "code",
      "execution_count": null,
      "metadata": {
        "tags": [],
        "id": "0tKHpFWu67t5"
      },
      "outputs": [],
      "source": [
        "def sum(a, b):\n",
        "    range_of_numbers_exclusive = [i for i in range(a+1,b)]\n",
        "    sum_of_range = 0\n",
        "    for i in range_of_numbers_exclusive:\n",
        "      sum_of_range += i\n",
        "    return(sum_of_range)\n"
      ]
    },
    {
      "cell_type": "code",
      "execution_count": null,
      "metadata": {
        "deletable": false,
        "editable": false,
        "id": "eZm1nRGL67t5",
        "colab": {
          "base_uri": "https://localhost:8080/",
          "height": 46
        },
        "outputId": "ece8fa6d-a2c6-47a8-d2ee-aa05855e045a"
      },
      "outputs": [
        {
          "output_type": "execute_result",
          "data": {
            "text/plain": [
              "q9 results: All test cases passed!"
            ],
            "text/html": [
              "<p><strong><pre style='display: inline;'>q9</pre></strong> passed! 💯</p>"
            ]
          },
          "metadata": {},
          "execution_count": 20
        }
      ],
      "source": [
        "grader.check(\"q9\")"
      ]
    },
    {
      "cell_type": "markdown",
      "source": [
        "<!-- BEGIN QUESTION -->\n",
        "\n",
        "### 10. Define your own Python function!"
      ],
      "metadata": {
        "id": "HymEgeotdsBH"
      }
    },
    {
      "cell_type": "markdown",
      "source": [
        "#### Part A\n",
        "In Python, functions are blocks of code that only run when they are called. Functions are programmed to complete a specific task. You can input data, called parameters, into functions. Functions can also return data as a result.\n",
        "\n",
        "Write a function with the following components:\n",
        "\n",
        "* Pass a list as the function parameter. The list can be composed of any data type (int, string, float, etc.)\n",
        "* At least one conditional (if/else/elif)\n",
        "* One loop (ex. for, while, do-while)\n",
        "* Returns one or more values. This value can be a list or a single element.\n",
        "\n",
        "\n",
        "Ensure the following:\n",
        "* Your program contains all the components listed above.\n",
        "* You test the function by calling it outside of the function.\n",
        "* Your program runs without any errors.\n",
        "\n",
        "_Points:_ 10"
      ],
      "metadata": {
        "id": "gUvdVs0jkirw"
      }
    },
    {
      "cell_type": "code",
      "source": [
        "def remove_strings(my_list):\n",
        "  new_list=[]\n",
        "  for item in my_list:\n",
        "    if type(item) != str:\n",
        "      new_list.append(item)\n",
        "    else:\n",
        "      print(f\"do not append this item: {item}\")\n",
        "  return(new_list)\n",
        "\n",
        "test_list = ['a',True,1,2.34,'my_str']\n",
        "removed_strings_list = remove_strings(test_list)\n",
        "print(removed_strings_list)\n"
      ],
      "metadata": {
        "id": "JSNs6mq0dryo",
        "colab": {
          "base_uri": "https://localhost:8080/"
        },
        "outputId": "0ce65f07-9de6-404e-aed3-76647a32f7bb"
      },
      "execution_count": null,
      "outputs": [
        {
          "output_type": "stream",
          "name": "stdout",
          "text": [
            "do not append this item: a\n",
            "do not append this item: my_str\n",
            "[True, 1, 2.34]\n"
          ]
        }
      ]
    },
    {
      "cell_type": "markdown",
      "source": [
        "#### Part B\n",
        "Record a video, no more than 3 minutes long.\n",
        "\n",
        "* Explain the function at a high level. We want you to explain the flow of code, including the order in which the lines of code are executed.\n",
        "* Explain at least two of the required components. For example, you could describe your conditional statement and what your loop does.\n",
        "\n",
        "You can reference the example video here: https://drive.google.com/file/d/1LragCuaHO_eVMm1EDfFv7wqQcrC86NuW/view?usp=sharing"
      ],
      "metadata": {
        "id": "HRGkf5Lel7m6"
      }
    },
    {
      "cell_type": "markdown",
      "source": [
        "Upload the recorded video to your drive and paste the shareable link in the cell below.\n",
        "\n",
        "Note: Ensure that we are able to view the video.\n",
        "\n",
        "_Points:_ 10"
      ],
      "metadata": {
        "id": "2xvp0J7mZtvk"
      }
    },
    {
      "cell_type": "code",
      "source": [
        "#https://drive.google.com/file/d/1NoM7Vm1Fv7DvJ65aMJp6WI-5aeHTIxxq/view?usp=drive_link"
      ],
      "metadata": {
        "id": "ArT39TtpaI5u"
      },
      "execution_count": null,
      "outputs": []
    },
    {
      "cell_type": "markdown",
      "metadata": {
        "deletable": false,
        "editable": false,
        "id": "Mo1MGROz67t5"
      },
      "source": [
        "<!-- END QUESTION -->\n",
        "\n",
        "### Submission\n",
        "\n",
        "Before you submit your notebook, ensure that you've run all the cells sequentially to display images, graphs, and outputs correctly (if the outputs are missing we might not be able to award points for those parts). Take the time to review your solutions and evaluate using the public test cases. Once you're satisfied, save your notebook by navigating to \"File\" in the Colab Notebook menu and selecting \"Save\" or using the keyboard shortcut (usually Ctrl + S or Cmd + S).\n",
        "\n",
        "To submit, export your notebook as an .ipynb file. Ensure it's saved with the same name as the assignment. Then, upload this .ipynb file to Gradescope. Remember to submit the correct version.\n",
        "\n",
        "Please save your work before exporting it, and if you encounter any technical issues or have questions about the submission process, reach out to the course staff for assistance."
      ]
    },
    {
      "cell_type": "markdown",
      "metadata": {
        "deletable": false,
        "editable": false,
        "id": "OqUIqRkY67t5"
      },
      "source": [
        "---\n",
        "\n",
        "To double-check your work for questions 1-3 and 5-9, the cell below will rerun all of the autograder tests."
      ]
    },
    {
      "cell_type": "code",
      "execution_count": null,
      "metadata": {
        "deletable": false,
        "editable": false,
        "id": "zl6ckvbc67t5",
        "colab": {
          "base_uri": "https://localhost:8080/"
        },
        "outputId": "a853d2b6-4546-46d5-dfdb-e15e21dd6836"
      },
      "outputs": [
        {
          "output_type": "execute_result",
          "data": {
            "text/plain": [
              "q1 results:\n",
              "    q1 - 1 result:\n",
              "        ✅ Test case passed\n",
              "\n",
              "    q1 - 2 result:\n",
              "        ❌ Test case failed\n",
              "        Trying:\n",
              "            assert type(my_str) == int\n",
              "        Expecting nothing\n",
              "        **********************************************************************\n",
              "        Line 1, in q1 1\n",
              "        Failed example:\n",
              "            assert type(my_str) == int\n",
              "        Exception raised:\n",
              "            Traceback (most recent call last):\n",
              "              File \"/usr/lib/python3.10/doctest.py\", line 1350, in __run\n",
              "                exec(compile(example.source, filename, \"single\",\n",
              "              File \"<doctest q1 1[0]>\", line 1, in <module>\n",
              "                assert type(my_str) == int\n",
              "            AssertionError\n",
              "\n",
              "    q1 - 3 result:\n",
              "        ✅ Test case passed\n",
              "\n",
              "    q1 - 4 result:\n",
              "        ❌ Test case failed\n",
              "        Trying:\n",
              "            assert my_str == 5\n",
              "        Expecting nothing\n",
              "        **********************************************************************\n",
              "        Line 1, in q1 3\n",
              "        Failed example:\n",
              "            assert my_str == 5\n",
              "        Exception raised:\n",
              "            Traceback (most recent call last):\n",
              "              File \"/usr/lib/python3.10/doctest.py\", line 1350, in __run\n",
              "                exec(compile(example.source, filename, \"single\",\n",
              "              File \"<doctest q1 3[0]>\", line 1, in <module>\n",
              "                assert my_str == 5\n",
              "            AssertionError\n",
              "\n",
              "q2 results: All test cases passed!\n",
              "\n",
              "q3 results: All test cases passed!\n",
              "\n",
              "q5 results: All test cases passed!\n",
              "\n",
              "q6 results: All test cases passed!\n",
              "\n",
              "q7 results: All test cases passed!\n",
              "\n",
              "q8 results: All test cases passed!\n",
              "\n",
              "q9 results: All test cases passed!"
            ]
          },
          "metadata": {},
          "execution_count": 22
        }
      ],
      "source": [
        "grader.check_all()"
      ]
    }
  ],
  "metadata": {
    "colab": {
      "provenance": []
    },
    "kernelspec": {
      "display_name": "Python 3",
      "language": "python",
      "name": "python3"
    },
    "language_info": {
      "codemirror_mode": {
        "name": "ipython",
        "version": 3
      },
      "file_extension": ".py",
      "mimetype": "text/x-python",
      "name": "python",
      "nbconvert_exporter": "python",
      "pygments_lexer": "ipython3",
      "version": "3.8.18"
    },
    "otter": {
      "OK_FORMAT": true,
      "tests": {
        "q1": {
          "name": "q1",
          "points": 5,
          "suites": [
            {
              "cases": [
                {
                  "code": ">>> assert type(my_int) == str\n",
                  "hidden": false,
                  "locked": false
                },
                {
                  "code": ">>> assert type(my_str) == int\n",
                  "hidden": false,
                  "locked": false
                },
                {
                  "code": ">>> assert my_int == \"Hi\"\n",
                  "hidden": false,
                  "locked": false
                },
                {
                  "code": ">>> assert my_str == 5\n",
                  "hidden": false,
                  "locked": false
                }
              ],
              "scored": true,
              "setup": "",
              "teardown": "",
              "type": "doctest"
            }
          ]
        },
        "q2": {
          "name": "q2",
          "points": 5,
          "suites": [
            {
              "cases": [
                {
                  "code": ">>> assert calc_diag(3, 4) == 5\n",
                  "hidden": false,
                  "locked": false
                }
              ],
              "scored": true,
              "setup": "",
              "teardown": "",
              "type": "doctest"
            }
          ]
        },
        "q3": {
          "name": "q3",
          "points": 10,
          "suites": [
            {
              "cases": [
                {
                  "code": ">>> assert is_divisible_by_3(9) == True\n",
                  "hidden": false,
                  "locked": false
                },
                {
                  "code": ">>> assert is_divisible_by_3(-12) == True\n",
                  "hidden": false,
                  "locked": false
                }
              ],
              "scored": true,
              "setup": "",
              "teardown": "",
              "type": "doctest"
            }
          ]
        },
        "q5": {
          "name": "q5",
          "points": 10,
          "suites": [
            {
              "cases": [
                {
                  "code": ">>> assert if_palindrome(\"racecar\") == True\n",
                  "hidden": false,
                  "locked": false
                },
                {
                  "code": ">>> assert if_palindrome(\"hello\") == False\n",
                  "hidden": false,
                  "locked": false
                }
              ],
              "scored": true,
              "setup": "",
              "teardown": "",
              "type": "doctest"
            }
          ]
        },
        "q6": {
          "name": "q6",
          "points": 5,
          "suites": [
            {
              "cases": [
                {
                  "code": ">>> assert len(sol) == 6\n",
                  "hidden": false,
                  "locked": false
                },
                {
                  "code": ">>> assert sol == [5, 10, 15, 20, 25, 30]\n>>> \n",
                  "hidden": false,
                  "locked": false
                }
              ],
              "scored": true,
              "setup": "",
              "teardown": "",
              "type": "doctest"
            }
          ]
        },
        "q7": {
          "name": "q7",
          "points": 15,
          "suites": [
            {
              "cases": [
                {
                  "code": ">>> assert fibonacci(1) == [0]\n",
                  "hidden": false,
                  "locked": false
                },
                {
                  "code": ">>> assert fibonacci(5) == [0, 1, 1, 2, 3]\n",
                  "hidden": false,
                  "locked": false
                }
              ],
              "scored": true,
              "setup": "",
              "teardown": "",
              "type": "doctest"
            }
          ]
        },
        "q8": {
          "name": "q8",
          "points": 10,
          "suites": [
            {
              "cases": [
                {
                  "code": ">>> assert remove_vowels(\"Hello, World!\") == \"Hll, Wrld!\"\n",
                  "hidden": false,
                  "locked": false
                },
                {
                  "code": ">>> assert remove_vowels(\"Python Programming\") == \"Pythn Prgrmmng\"\n",
                  "hidden": false,
                  "locked": false
                }
              ],
              "scored": true,
              "setup": "",
              "teardown": "",
              "type": "doctest"
            }
          ]
        },
        "q9": {
          "name": "q9",
          "points": 10,
          "suites": [
            {
              "cases": [
                {
                  "code": ">>> assert sum(1, 5) == 9\n>>> \n",
                  "hidden": false,
                  "locked": false
                },
                {
                  "code": ">>> assert sum(-3, 3) == 0\n",
                  "hidden": false,
                  "locked": false
                }
              ],
              "scored": true,
              "setup": "",
              "teardown": "",
              "type": "doctest"
            }
          ]
        }
      }
    }
  },
  "nbformat": 4,
  "nbformat_minor": 0
}